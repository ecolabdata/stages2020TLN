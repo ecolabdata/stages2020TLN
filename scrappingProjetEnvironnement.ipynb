{
 "cells": [
  {
   "cell_type": "markdown",
   "metadata": {},
   "source": [
    "# Récupération des liens Etudes d'impacts & Avis de Projet-Environnement"
   ]
  },
  {
   "cell_type": "code",
   "execution_count": 1,
   "metadata": {},
   "outputs": [],
   "source": [
    "#bibliothèques nécessaires\n",
    "import pandas as pd \n",
    "import re\n",
    "import datetime\n",
    "import requests"
   ]
  },
  {
   "cell_type": "markdown",
   "metadata": {},
   "source": [
    "Il faut indiquer les différents chemins pour :\n",
    "- indiquer l'emplacement de téléchargement (*cheminEtudeAvis*)\n",
    "- indiquer le CSV contenant les liens (*cheminLiens*)\n",
    "- indiquer le CSV contenant les informations des documents déjà traités (*cheminInfos*)\n",
    "<br/>\n",
    "<br/>"
   ]
  },
  {
   "cell_type": "code",
   "execution_count": 2,
   "metadata": {},
   "outputs": [],
   "source": [
    "cheminEtudeAvis = \"/Volumes/MIG-1/etude_avis/\"\n",
    "cheminLiens = \"\"\n",
    "cheminInfos = \"/Volumes/MIG-1/etude_avis/\""
   ]
  },
  {
   "cell_type": "code",
   "execution_count": 3,
   "metadata": {},
   "outputs": [],
   "source": [
    "#Récupération des liens et des documents déjà traités\n",
    "liensEtudeAvis = pd.read_csv(cheminLiens+\"etude_avis_geo.csv\")\n",
    "dataEtudeAvis = pd.read_csv(cheminInfos+\"infos_etude_avis.csv\", delimiter=\";\")\n",
    "idDone = list(dataEtudeAvis['id'])"
   ]
  },
  {
   "cell_type": "code",
   "execution_count": 4,
   "metadata": {},
   "outputs": [
    {
     "data": {
      "text/html": [
       "<div>\n",
       "<style scoped>\n",
       "    .dataframe tbody tr th:only-of-type {\n",
       "        vertical-align: middle;\n",
       "    }\n",
       "\n",
       "    .dataframe tbody tr th {\n",
       "        vertical-align: top;\n",
       "    }\n",
       "\n",
       "    .dataframe thead th {\n",
       "        text-align: right;\n",
       "    }\n",
       "</style>\n",
       "<table border=\"1\" class=\"dataframe\">\n",
       "  <thead>\n",
       "    <tr style=\"text-align: right;\">\n",
       "      <th></th>\n",
       "      <th>etude_impact</th>\n",
       "      <th>avis_ae</th>\n",
       "      <th>departement</th>\n",
       "      <th>lng</th>\n",
       "      <th>lat</th>\n",
       "    </tr>\n",
       "  </thead>\n",
       "  <tbody>\n",
       "    <tr>\n",
       "      <th>0</th>\n",
       "      <td>http://documents.projets-environnement.gouv.fr...</td>\n",
       "      <td>http://documents.projets-environnement.gouv.fr...</td>\n",
       "      <td>38</td>\n",
       "      <td>6.060826</td>\n",
       "      <td>45.074916</td>\n",
       "    </tr>\n",
       "    <tr>\n",
       "      <th>1</th>\n",
       "      <td>http://documents.projets-environnement.gouv.fr...</td>\n",
       "      <td>http://documents.projets-environnement.gouv.fr...</td>\n",
       "      <td>974</td>\n",
       "      <td>55.743148</td>\n",
       "      <td>-21.122115</td>\n",
       "    </tr>\n",
       "    <tr>\n",
       "      <th>2</th>\n",
       "      <td>http://documents.projets-environnement.gouv.fr...</td>\n",
       "      <td>http://documents.projets-environnement.gouv.fr...</td>\n",
       "      <td>973</td>\n",
       "      <td>-53.546190</td>\n",
       "      <td>5.506384</td>\n",
       "    </tr>\n",
       "    <tr>\n",
       "      <th>3</th>\n",
       "      <td>http://documents.projets-environnement.gouv.fr...</td>\n",
       "      <td>http://documents.projets-environnement.gouv.fr...</td>\n",
       "      <td>31</td>\n",
       "      <td>0.508394</td>\n",
       "      <td>43.168064</td>\n",
       "    </tr>\n",
       "    <tr>\n",
       "      <th>4</th>\n",
       "      <td>http://documents.projets-environnement.gouv.fr...</td>\n",
       "      <td>http://documents.projets-environnement.gouv.fr...</td>\n",
       "      <td>57</td>\n",
       "      <td>6.683017</td>\n",
       "      <td>49.169215</td>\n",
       "    </tr>\n",
       "  </tbody>\n",
       "</table>\n",
       "</div>"
      ],
      "text/plain": [
       "                                        etude_impact  \\\n",
       "0  http://documents.projets-environnement.gouv.fr...   \n",
       "1  http://documents.projets-environnement.gouv.fr...   \n",
       "2  http://documents.projets-environnement.gouv.fr...   \n",
       "3  http://documents.projets-environnement.gouv.fr...   \n",
       "4  http://documents.projets-environnement.gouv.fr...   \n",
       "\n",
       "                                             avis_ae  departement        lng  \\\n",
       "0  http://documents.projets-environnement.gouv.fr...           38   6.060826   \n",
       "1  http://documents.projets-environnement.gouv.fr...          974  55.743148   \n",
       "2  http://documents.projets-environnement.gouv.fr...          973 -53.546190   \n",
       "3  http://documents.projets-environnement.gouv.fr...           31   0.508394   \n",
       "4  http://documents.projets-environnement.gouv.fr...           57   6.683017   \n",
       "\n",
       "         lat  \n",
       "0  45.074916  \n",
       "1 -21.122115  \n",
       "2   5.506384  \n",
       "3  43.168064  \n",
       "4  49.169215  "
      ]
     },
     "execution_count": 4,
     "metadata": {},
     "output_type": "execute_result"
    }
   ],
   "source": [
    "liensEtudeAvis.head(5)"
   ]
  },
  {
   "cell_type": "code",
   "execution_count": 5,
   "metadata": {},
   "outputs": [
    {
     "data": {
      "text/html": [
       "<div>\n",
       "<style scoped>\n",
       "    .dataframe tbody tr th:only-of-type {\n",
       "        vertical-align: middle;\n",
       "    }\n",
       "\n",
       "    .dataframe tbody tr th {\n",
       "        vertical-align: top;\n",
       "    }\n",
       "\n",
       "    .dataframe thead th {\n",
       "        text-align: right;\n",
       "    }\n",
       "</style>\n",
       "<table border=\"1\" class=\"dataframe\">\n",
       "  <thead>\n",
       "    <tr style=\"text-align: right;\">\n",
       "      <th></th>\n",
       "      <th>id</th>\n",
       "      <th>etude_impact</th>\n",
       "      <th>avis_ae</th>\n",
       "      <th>departement</th>\n",
       "      <th>longitude</th>\n",
       "      <th>latitude</th>\n",
       "    </tr>\n",
       "  </thead>\n",
       "  <tbody>\n",
       "    <tr>\n",
       "      <th>0</th>\n",
       "      <td>172174</td>\n",
       "      <td>172174_FEI.pdf</td>\n",
       "      <td>172174_AAE.pdf</td>\n",
       "      <td>38</td>\n",
       "      <td>6.060826</td>\n",
       "      <td>45.074916</td>\n",
       "    </tr>\n",
       "    <tr>\n",
       "      <th>1</th>\n",
       "      <td>90468</td>\n",
       "      <td>90468_FEI.pdf</td>\n",
       "      <td>90468_AAE.pdf</td>\n",
       "      <td>974</td>\n",
       "      <td>55.743148</td>\n",
       "      <td>-21.122115</td>\n",
       "    </tr>\n",
       "    <tr>\n",
       "      <th>2</th>\n",
       "      <td>57536</td>\n",
       "      <td>57536_FEI.pdf</td>\n",
       "      <td>57536_AAE.pdf</td>\n",
       "      <td>973</td>\n",
       "      <td>-53.546190</td>\n",
       "      <td>5.506384</td>\n",
       "    </tr>\n",
       "    <tr>\n",
       "      <th>3</th>\n",
       "      <td>189926</td>\n",
       "      <td>189926_FEI.pdf</td>\n",
       "      <td>189926_AAE.pdf</td>\n",
       "      <td>31</td>\n",
       "      <td>0.508394</td>\n",
       "      <td>43.168064</td>\n",
       "    </tr>\n",
       "    <tr>\n",
       "      <th>4</th>\n",
       "      <td>770502</td>\n",
       "      <td>770502_FEI.zip</td>\n",
       "      <td>770502_AAE.zip</td>\n",
       "      <td>57</td>\n",
       "      <td>6.683017</td>\n",
       "      <td>49.169215</td>\n",
       "    </tr>\n",
       "  </tbody>\n",
       "</table>\n",
       "</div>"
      ],
      "text/plain": [
       "       id    etude_impact         avis_ae  departement  longitude   latitude\n",
       "0  172174  172174_FEI.pdf  172174_AAE.pdf           38   6.060826  45.074916\n",
       "1   90468   90468_FEI.pdf   90468_AAE.pdf          974  55.743148 -21.122115\n",
       "2   57536   57536_FEI.pdf   57536_AAE.pdf          973 -53.546190   5.506384\n",
       "3  189926  189926_FEI.pdf  189926_AAE.pdf           31   0.508394  43.168064\n",
       "4  770502  770502_FEI.zip  770502_AAE.zip           57   6.683017  49.169215"
      ]
     },
     "execution_count": 5,
     "metadata": {},
     "output_type": "execute_result"
    }
   ],
   "source": [
    "dataEtudeAvis.head(5)"
   ]
  },
  {
   "cell_type": "markdown",
   "metadata": {},
   "source": [
    "La cellule qui suit (script principal) peut être interrompu à n'importe quel moment et repris en relançant celle-ci.<br/>\n",
    "*Exception: pendant la phase de sauvegarde, il ne faut pas interrompre le script*"
   ]
  },
  {
   "cell_type": "code",
   "execution_count": 23,
   "metadata": {},
   "outputs": [
    {
     "name": "stdout",
     "output_type": "stream",
     "text": [
      "ITERATION 582\n",
      "extension : pdf\n",
      "   Telechargement etude d'impact... depuis  18 h 1\n",
      "   Telechargement avis... depuis  18 h 2\n",
      "   Sauvegarde des données (ne pas interrompre)... depuis  18 h 2\n",
      "ITERATION 583\n",
      "extension : zip\n",
      "   Telechargement etude d'impact... depuis  18 h 2\n",
      "   Telechargement avis... depuis  18 h 2\n",
      "   Sauvegarde des données (ne pas interrompre)... depuis  18 h 2\n",
      "ITERATION 584\n",
      "extension : pdf\n",
      "   Telechargement etude d'impact... depuis  18 h 2\n",
      "   Telechargement avis... depuis  18 h 4\n",
      "   Sauvegarde des données (ne pas interrompre)... depuis  18 h 4\n",
      "ITERATION 585\n",
      "extension : pdf\n",
      "   Telechargement etude d'impact... depuis  18 h 4\n",
      "   Telechargement avis... depuis  18 h 4\n",
      "   Sauvegarde des données (ne pas interrompre)... depuis  18 h 4\n",
      "ITERATION 586\n",
      "extension : pdf\n",
      "   Telechargement etude d'impact... depuis  18 h 4\n",
      "   Telechargement avis... depuis  18 h 6\n",
      "   Sauvegarde des données (ne pas interrompre)... depuis  18 h 6\n",
      "ITERATION 587\n",
      "extension : pdf\n",
      "   Telechargement etude d'impact... depuis  18 h 6\n",
      "   Telechargement avis... depuis  18 h 10\n",
      "   Sauvegarde des données (ne pas interrompre)... depuis  18 h 10\n",
      "ITERATION 588\n",
      "extension : pdf\n",
      "   Telechargement etude d'impact... depuis  18 h 10\n",
      "   Telechargement avis... depuis  18 h 12\n",
      "   Sauvegarde des données (ne pas interrompre)... depuis  18 h 12\n",
      "ITERATION 589\n",
      "extension : pdf\n",
      "   Telechargement etude d'impact... depuis  18 h 12\n",
      "   Telechargement avis... depuis  18 h 12\n",
      "   Sauvegarde des données (ne pas interrompre)... depuis  18 h 12\n",
      "END\n"
     ]
    }
   ],
   "source": [
    "dataEtudeAvis = pd.read_csv(cheminInfos+\"infos_etude_avis.csv\", delimiter=\";\") # permet de relancer la cellule en cas d'interruption sans relancer les cellules précédentes.\n",
    "idDone = list(dataEtudeAvis['id'])\n",
    "\n",
    "#TO DELETE (car les fichiers sont en .7z et ne veulent pas se télécharger, même à la main)\n",
    "idDone.append(93055)\n",
    "idDone.append(972596)\n",
    "idDone.append(156605)\n",
    "#FIN To DELETE\n",
    "\n",
    "cpt = 0 #compteur pour limité le nombre de fichier à récupérer\n",
    "maxi = 9999\n",
    "for index, line in liensEtudeAvis.iterrows():\n",
    "    \n",
    "    # Vérification limite\n",
    "    if(cpt > maxi):\n",
    "        break\n",
    "    cpt += 1\n",
    "    \n",
    "    \n",
    "    #récupération de l'ID du fichier\n",
    "    tmp = re.search('/([^/_]+)_(?:[^/_]+)\\.(\\w+)$', line['etude_impact'])\n",
    "    idDoc = str(tmp[1])\n",
    "    extension_EI = str(tmp[2])\n",
    "    \n",
    "    \n",
    "    if(int(idDoc) not in idDone and extension_EI!='7z'):#Si le document n'a pas déjà été traité\n",
    "        print(\"ITERATION \"+str(cpt))\n",
    "        print('extension :', extension_EI)\n",
    "    \n",
    "        #################################\n",
    "        #récupération de l'etude d'impact\n",
    "        #################################\n",
    "        \n",
    "        now = datetime.datetime.now()\n",
    "        print(\"   Telechargement etude d'impact... depuis \", now.hour, \"h\", now.minute)\n",
    "        page = requests.get(line['etude_impact'])\n",
    "        #sauvegarde du fichier\n",
    "        name_file_EI = idDoc+\"_FEI.\"+extension_EI\n",
    "        etudeImpact = page.content\n",
    "        \n",
    "\n",
    "        ###############################\n",
    "        #récupération de l'avis de l'AE\n",
    "        ###############################\n",
    "        \n",
    "        now = datetime.datetime.now()\n",
    "        print(\"   Telechargement avis... depuis \", now.hour, \"h\", now.minute)\n",
    "        if(str(line['avis_ae'])!='nan'):\n",
    "            page = requests.get(line['avis_ae'])\n",
    "            #sauvegarde du fichier\n",
    "            tmp = re.search('/([^/_]+)_(?:[^/_]+)\\.(\\w+)$', line['avis_ae'])\n",
    "            extension_AE = str(tmp[2])\n",
    "            name_file_AE = idDoc+\"_AAE.\"+extension_AE\n",
    "            avis = page.content\n",
    "            \n",
    "        else:\n",
    "            name_file_AE = 'sans_avis'\n",
    "\n",
    "            \n",
    "        ############################################\n",
    "        #sauvegarde informations et noms de fichiers\n",
    "        ############################################\n",
    "        print(\"   Sauvegarde des données (ne pas interrompre)... depuis \", now.hour, \"h\", now.minute)\n",
    "        \n",
    "        #sauvegarde etude impact\n",
    "        file = open(cheminEtudeAvis+name_file_EI,'wb')\n",
    "        file.write(etudeImpact)\n",
    "        file.close()\n",
    "        \n",
    "        #sauvegarde avis\n",
    "        if(str(line['avis_ae'])!='nan'):\n",
    "            file = open(cheminEtudeAvis+name_file_AE,'wb')\n",
    "            file.write(avis)\n",
    "            file.close()\n",
    "            \n",
    "        dataCSV = idDoc+\";\"+name_file_EI+\";\"+name_file_AE+\";\"+str(line['departement'])+\";\"+str(line['lng'])+\";\"+str(line['lat'])+\"\\n\"\n",
    "        file = open(cheminInfos+'infos_etude_avis.csv','a')\n",
    "        file.write(dataCSV)\n",
    "        file.close()\n",
    "print(\"END\")"
   ]
  },
  {
   "cell_type": "markdown",
   "metadata": {},
   "source": [
    "Permet d'afficher simplement les liens de l'étude et de l'ais au cas où le script n'arrievrait pas à télécharger le document"
   ]
  },
  {
   "cell_type": "code",
   "execution_count": 16,
   "metadata": {},
   "outputs": [
    {
     "name": "stdout",
     "output_type": "stream",
     "text": [
      "http://documents.projets-environnement.gouv.fr/2019/02/26/100689/100689_FEI.pdf\n"
     ]
    }
   ],
   "source": [
    "print(line['etude_impact'])"
   ]
  },
  {
   "cell_type": "code",
   "execution_count": 17,
   "metadata": {},
   "outputs": [
    {
     "name": "stdout",
     "output_type": "stream",
     "text": [
      "http://documents.projets-environnement.gouv.fr/2019/02/26/100689/100689_AAE.pdf\n"
     ]
    }
   ],
   "source": [
    "print(line['avis_ae'])"
   ]
  },
  {
   "cell_type": "code",
   "execution_count": null,
   "metadata": {},
   "outputs": [],
   "source": []
  }
 ],
 "metadata": {
  "kernelspec": {
   "display_name": "Python 3",
   "language": "python",
   "name": "python3"
  },
  "language_info": {
   "codemirror_mode": {
    "name": "ipython",
    "version": 3
   },
   "file_extension": ".py",
   "mimetype": "text/x-python",
   "name": "python",
   "nbconvert_exporter": "python",
   "pygments_lexer": "ipython3",
   "version": "3.7.6"
  }
 },
 "nbformat": 4,
 "nbformat_minor": 4
}
