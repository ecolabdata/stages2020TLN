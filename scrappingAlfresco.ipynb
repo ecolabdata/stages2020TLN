{
 "cells": [
  {
   "cell_type": "markdown",
   "metadata": {},
   "source": [
    "# Récupération des urls de téléchargement (études) et meta-données associées"
   ]
  },
  {
   "cell_type": "code",
   "execution_count": null,
   "metadata": {},
   "outputs": [],
   "source": [
    "from selenium import webdriver\n",
    "from selenium.webdriver.common.action_chains import ActionChains\n",
    "import re\n",
    "import time\n",
    "import pandas as pd "
   ]
  },
  {
   "cell_type": "markdown",
   "metadata": {},
   "source": [
    "Récupération CSV"
   ]
  },
  {
   "cell_type": "code",
   "execution_count": 2,
   "metadata": {},
   "outputs": [],
   "source": [
    "cheminLiens = \"\""
   ]
  },
  {
   "cell_type": "code",
   "execution_count": 3,
   "metadata": {},
   "outputs": [],
   "source": [
    "liensEtude = pd.read_csv(cheminLiens+\"etude_bretagne.csv\", delimiter=';')\n",
    "idDone = list(liensEtude['html_id'])\n",
    "#To delette (dossier presenté différemment)\n",
    "idDone.append('ygtv113')\n",
    "idDone.append('ygtv129')"
   ]
  },
  {
   "cell_type": "code",
   "execution_count": 5,
   "metadata": {},
   "outputs": [],
   "source": [
    "#To delette (dossier presenté différemment)\n",
    "idDone.append('ygtv113')\n",
    "idDone.append('ygtv129')"
   ]
  },
  {
   "cell_type": "code",
   "execution_count": 6,
   "metadata": {
    "scrolled": true
   },
   "outputs": [
    {
     "data": {
      "text/html": [
       "<div>\n",
       "<style scoped>\n",
       "    .dataframe tbody tr th:only-of-type {\n",
       "        vertical-align: middle;\n",
       "    }\n",
       "\n",
       "    .dataframe tbody tr th {\n",
       "        vertical-align: top;\n",
       "    }\n",
       "\n",
       "    .dataframe thead th {\n",
       "        text-align: right;\n",
       "    }\n",
       "</style>\n",
       "<table border=\"1\" class=\"dataframe\">\n",
       "  <thead>\n",
       "    <tr style=\"text-align: right;\">\n",
       "      <th></th>\n",
       "      <th>id</th>\n",
       "      <th>titre_projet</th>\n",
       "      <th>url_etude</th>\n",
       "      <th>titre_fichier</th>\n",
       "      <th>html_id</th>\n",
       "    </tr>\n",
       "  </thead>\n",
       "  <tbody>\n",
       "    <tr>\n",
       "      <th>0</th>\n",
       "      <td>2017-004867</td>\n",
       "      <td>AU éolien Bois Morand (35)</td>\n",
       "      <td>https://travail-collaboratif.din.developpement...</td>\n",
       "      <td>35-P&amp;T-SaintMorand-4-2-EtudeImpacts_COMPL.comp...</td>\n",
       "      <td>ygtv16</td>\n",
       "    </tr>\n",
       "    <tr>\n",
       "      <th>1</th>\n",
       "      <td>2017-005464</td>\n",
       "      <td>Ecopôle de Lanvian à Guipavas (29)</td>\n",
       "      <td>https://travail-collaboratif.din.developpement...</td>\n",
       "      <td>ECO-PÔLE LANVIAN - DOSSIER DE CREATION (pour a...</td>\n",
       "      <td>ygtv18</td>\n",
       "    </tr>\n",
       "    <tr>\n",
       "      <th>2</th>\n",
       "      <td>2017-005501</td>\n",
       "      <td>Plate-forme logistique Tinténiac (35)</td>\n",
       "      <td>https://travail-collaboratif.din.developpement...</td>\n",
       "      <td>Etude d'impact_30112017.pdf</td>\n",
       "      <td>ygtv19</td>\n",
       "    </tr>\n",
       "    <tr>\n",
       "      <th>3</th>\n",
       "      <td>2017-005685</td>\n",
       "      <td>EARL du Héran à Muel (35)</td>\n",
       "      <td>https://travail-collaboratif.din.developpement...</td>\n",
       "      <td>HERAN Muel ETUDE IMPACT IED sept17.pdf</td>\n",
       "      <td>ygtv20</td>\n",
       "    </tr>\n",
       "    <tr>\n",
       "      <th>4</th>\n",
       "      <td>2018-004671</td>\n",
       "      <td>Implantation d'un parc éolien - Le Menec à Lou...</td>\n",
       "      <td>https://travail-collaboratif.din.developpement...</td>\n",
       "      <td>22-P&amp;T-Le_Ménec-4-2-EtudeImpacts2.pdf</td>\n",
       "      <td>ygtv21</td>\n",
       "    </tr>\n",
       "  </tbody>\n",
       "</table>\n",
       "</div>"
      ],
      "text/plain": [
       "            id                                       titre_projet  \\\n",
       "0  2017-004867                         AU éolien Bois Morand (35)   \n",
       "1  2017-005464                 Ecopôle de Lanvian à Guipavas (29)   \n",
       "2  2017-005501              Plate-forme logistique Tinténiac (35)   \n",
       "3  2017-005685                          EARL du Héran à Muel (35)   \n",
       "4  2018-004671  Implantation d'un parc éolien - Le Menec à Lou...   \n",
       "\n",
       "                                           url_etude  \\\n",
       "0  https://travail-collaboratif.din.developpement...   \n",
       "1  https://travail-collaboratif.din.developpement...   \n",
       "2  https://travail-collaboratif.din.developpement...   \n",
       "3  https://travail-collaboratif.din.developpement...   \n",
       "4  https://travail-collaboratif.din.developpement...   \n",
       "\n",
       "                                       titre_fichier html_id  \n",
       "0  35-P&T-SaintMorand-4-2-EtudeImpacts_COMPL.comp...  ygtv16  \n",
       "1  ECO-PÔLE LANVIAN - DOSSIER DE CREATION (pour a...  ygtv18  \n",
       "2                        Etude d'impact_30112017.pdf  ygtv19  \n",
       "3             HERAN Muel ETUDE IMPACT IED sept17.pdf  ygtv20  \n",
       "4              22-P&T-Le_Ménec-4-2-EtudeImpacts2.pdf  ygtv21  "
      ]
     },
     "execution_count": 6,
     "metadata": {},
     "output_type": "execute_result"
    }
   ],
   "source": [
    "liensEtude.head(5)"
   ]
  },
  {
   "cell_type": "markdown",
   "metadata": {},
   "source": [
    "Connexion à Alfresco avec remplissage formulaire"
   ]
  },
  {
   "cell_type": "code",
   "execution_count": null,
   "metadata": {},
   "outputs": [],
   "source": [
    "identifiant = \"\"\n",
    "motdepasse = \"\""
   ]
  },
  {
   "cell_type": "code",
   "execution_count": 7,
   "metadata": {},
   "outputs": [],
   "source": [
    "path = '/Users/js/Documents/stage/scrapping/chromedriver'\n",
    "driver = webdriver.Chrome(path)\n",
    "time.sleep(0.5)\n",
    "driver.get(\"https://travail-collaboratif.din.developpement-durable.gouv.fr/share/page/site/MRAE-Bretagne/dashboard\")\n",
    "time.sleep(0.5)\n",
    "pseudo = driver.find_element_by_id(\"page_x002e_components_x002e_slingshot-login_x0023_default-username\")\n",
    "pseudo.send_keys(identifiant)\n",
    "time.sleep(0.5)\n",
    "mdp = driver.find_element_by_id(\"page_x002e_components_x002e_slingshot-login_x0023_default-password\")\n",
    "mdp.send_keys(motdepasse)\n",
    "time.sleep(0.5)\n",
    "submit = driver.find_element_by_id(\"page_x002e_components_x002e_slingshot-login_x0023_default-submit\")\n",
    "submit.click()"
   ]
  },
  {
   "cell_type": "markdown",
   "metadata": {},
   "source": [
    "Go to dossier"
   ]
  },
  {
   "cell_type": "code",
   "execution_count": 9,
   "metadata": {},
   "outputs": [],
   "source": [
    "driver.find_element_by_xpath('//*[@id=\"HEADER_SITE_DOCUMENTLIBRARY_text\"]/a').click()\n",
    "time.sleep(6)\n",
    "driver.find_element_by_id(\"ygtvlabelel5\").click()\n",
    "time.sleep(6)\n",
    "driver.find_element_by_id(\"ygtvlabelel10\").click()"
   ]
  },
  {
   "cell_type": "markdown",
   "metadata": {},
   "source": [
    "Récupère la liste des dossiers et leur ids html"
   ]
  },
  {
   "cell_type": "code",
   "execution_count": 10,
   "metadata": {},
   "outputs": [],
   "source": [
    "elements = driver.find_elements_by_xpath('//*[@id=\"ygtvc10\"]/div')\n",
    "htmlIDs = [element.get_attribute(\"id\") for element in elements][1:-2]#pour ne pas prendre le premier élément ni le dernier qui ne sont pas des dossiers mais des exemples\n",
    "htmlIDs = [htmlID for htmlID in htmlIDs if htmlID not in idDone]#filtre les dossiers déjà traité"
   ]
  },
  {
   "cell_type": "markdown",
   "metadata": {},
   "source": [
    "Fonction utile pour alléger le code"
   ]
  },
  {
   "cell_type": "code",
   "execution_count": 11,
   "metadata": {},
   "outputs": [],
   "source": [
    "def getHiddenUrl(fichier):\n",
    "    hiddenElement = fichier.find_element_by_xpath('./td[5]')\n",
    "    actions = ActionChains(driver)\n",
    "    actions.move_to_element(hiddenElement)\n",
    "    actions.perform()\n",
    "    time.sleep(1)\n",
    "    return hiddenElement.find_element_by_css_selector(\"a\").get_attribute(\"href\")"
   ]
  },
  {
   "cell_type": "code",
   "execution_count": 12,
   "metadata": {},
   "outputs": [],
   "source": [
    "def getSize(infos_file):\n",
    "    tmp = infos_file.find_element_by_xpath('./div/div')\n",
    "    tmp = re.search('(\\d+)\\s*(\\w+)', tmp.find_elements_by_xpath('./span')[-1].text)\n",
    "    coef = 1\n",
    "    if('Mo' in tmp[2] or 'ko' in tmp[2]):\n",
    "        coef = 1000\n",
    "    elif('Go' in tmp[2] or 'go' in tmp[2]):\n",
    "        coef = 1000000\n",
    "    return int(tmp[1]) * coef"
   ]
  },
  {
   "cell_type": "markdown",
   "metadata": {},
   "source": [
    "Récupération des études d'impact pour chaque element (avec l'avis si disponible)"
   ]
  },
  {
   "cell_type": "code",
   "execution_count": 15,
   "metadata": {},
   "outputs": [],
   "source": [
    "for htmlID in htmlIDs:\n",
    "    print(htmlID)\n",
    "    \n",
    "    \n",
    "    time.sleep(3)\n",
    "    element = driver.find_element_by_id(htmlID)\n",
    "    tmp = re.search('(\\d+-\\d+)[\\s_-]*((?:.|\\s)+)', element.text)\n",
    "    idDoc = tmp[1]\n",
    "    titre_projet = tmp[2]\n",
    "    element.click()#click sur le dossier\n",
    "    time.sleep(6)\n",
    "    driver.find_element_by_id(htmlID[:4]+\"c\"+htmlID[4:]).find_element_by_css_selector('div').click()#click sur le sous dossier \"dossier\"\n",
    "    time.sleep(6)\n",
    "    table = driver.find_elements_by_css_selector(\"table[summary]\")[-1] #récupération de la table contenant les fichiers\n",
    "    fichiers = table.find_elements_by_css_selector(\"tbody\")[1].find_elements_by_css_selector(\"tr\")#récupération des fichiers du dossier\n",
    "    \n",
    "    max_size = -1\n",
    "    url_max = \"\"\n",
    "    findEtude = False\n",
    "    for fichier in fichiers:\n",
    "        \n",
    "        infos_file = fichier.find_element_by_xpath('./td[4]')#Récupération de la \"<td>\" contenant les infos\n",
    "        \n",
    "        #extraction du nom de fichier et de l'url de téléchargement\n",
    "        name_file = infos_file.find_element_by_css_selector('h3').text\n",
    "        name_file_norm = name_file.lower().replace(\"é\",\"e\")\n",
    "        url_file = getHiddenUrl(fichier)\n",
    "        \n",
    "        #Extraction taille fichier\n",
    "        size_file = getSize(infos_file)\n",
    "        \n",
    "        #Véréficiation max\n",
    "        if(max_size<size_file):\n",
    "            max_size = size_file\n",
    "            url_max = url_file\n",
    "        \n",
    "        #Si fichier est identifié comme étude d'impact\n",
    "        if(\"etude\" in name_file_norm and 'impact' in name_file_norm and \"rnt\" not in name_file_norm):\n",
    "            findEtude = True\n",
    "            dataCSV = idDoc+\";\"+titre_projet+\";\"+url_file+\";\"+name_file+\";\"+str(htmlID)+\"\\n\"\n",
    "            file = open(cheminLiens+'etude_bretagne.csv','a')\n",
    "            file.write(dataCSV)\n",
    "            file.close()\n",
    "            \n",
    "    \n",
    "    #Si on n'a pas identifié le fichier de l'étude grace au nom, on prend le fichier le plus volumineux et on indique que le fichier est à vérifier        \n",
    "    if(findEtude==False):\n",
    "        dataCSV = idDoc+\";\"+titre_projet+\";\"+url_max+\";\"+name_file+\"_not_shure;\"+str(htmlID)+\"\\n\"\n",
    "        file = open(cheminLiens+'etude_bretagne.csv','a')\n",
    "        file.write(dataCSV)\n",
    "        file.close()\n",
    "        \n",
    "driver.close()"
   ]
  },
  {
   "cell_type": "code",
   "execution_count": null,
   "metadata": {},
   "outputs": [],
   "source": []
  }
 ],
 "metadata": {
  "kernelspec": {
   "display_name": "Python 3",
   "language": "python",
   "name": "python3"
  },
  "language_info": {
   "codemirror_mode": {
    "name": "ipython",
    "version": 3
   },
   "file_extension": ".py",
   "mimetype": "text/x-python",
   "name": "python",
   "nbconvert_exporter": "python",
   "pygments_lexer": "ipython3",
   "version": "3.7.6"
  }
 },
 "nbformat": 4,
 "nbformat_minor": 4
}
